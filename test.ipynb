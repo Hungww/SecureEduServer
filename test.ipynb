{
 "cells": [
  {
   "cell_type": "code",
   "execution_count": 8,
   "metadata": {},
   "outputs": [],
   "source": [
    "import pandas as pd\n",
    "import numpy as np\n",
    "import tldextract   \n",
    "import Levenshtein as lev"
   ]
  },
  {
   "cell_type": "code",
   "execution_count": 2,
   "metadata": {},
   "outputs": [
    {
     "name": "stdout",
     "output_type": "stream",
     "text": [
      "   Rank                Domain  Open Page Rank\n",
      "0     1          facebook.com            10.0\n",
      "1     2  fonts.googleapis.com            10.0\n",
      "2     3           youtube.com            10.0\n",
      "3     4            google.com            10.0\n",
      "4     5  googletagmanager.com            10.0\n"
     ]
    }
   ],
   "source": [
    "web_df = pd.read_csv('top10milliondomains.csv')\n",
    "\n",
    "#print the first 5 rows of the dataframe\n",
    "print(web_df.head())\n",
    "#print the last 5 rows of the dataframe\n",
    "print(web_df.tail())"
   ]
  },
  {
   "cell_type": "markdown",
   "metadata": {},
   "source": [
    "Add all url to list"
   ]
  },
  {
   "cell_type": "code",
   "execution_count": 5,
   "metadata": {},
   "outputs": [
    {
     "name": "stdout",
     "output_type": "stream",
     "text": [
      "['facebook.com', 'fonts.googleapis.com', 'youtube.com', 'google.com', 'googletagmanager.com', 'twitter.com', 'instagram.com', 'linkedin.com', 'fonts.gstatic.com', 'gmpg.org']\n",
      "10000000\n"
     ]
    }
   ],
   "source": [
    "urls= web_df['Domain'].tolist()\n",
    "print(urls[:10])\n",
    "print(len(urls))"
   ]
  },
  {
   "cell_type": "code",
   "execution_count": 26,
   "metadata": {},
   "outputs": [],
   "source": [
    "def get_domain(url):\n",
    "    ext = tldextract.extract(url)\n",
    "    print(ext)\n",
    "    \n",
    "    return ext"
   ]
  },
  {
   "cell_type": "code",
   "execution_count": 58,
   "metadata": {},
   "outputs": [],
   "source": [
    "def is_missspell_domain(domain, threshold=0.9):\n",
    "    max_similarity = 0\n",
    "    max_url = ''\n",
    "    for url in urls:\n",
    "        similarity = lev.ratio(domain, url)\n",
    "        if similarity > max_similarity:\n",
    "            max_similarity = similarity\n",
    "            max_url = url\n",
    "        if similarity > threshold:\n",
    "            return False\n",
    "    print(\"Max similarity: \", max_similarity)\n",
    "    print(\"Max url: \", max_url)\n",
    "    return True"
   ]
  },
  {
   "cell_type": "code",
   "execution_count": 43,
   "metadata": {},
   "outputs": [],
   "source": [
    "def fishing_check(target):\n",
    "    test = get_domain(target)\n",
    "    domain= test.domain\n",
    "    suffix = test.suffix\n",
    "    print(\" Domain: \", domain)\n",
    "    print(\" Suffix: \", suffix)\n",
    "    if f\"{domain}.{suffix}\" in urls:\n",
    "        print(\"Domain is in the list of top 10 million domains\")\n",
    "        return False\n",
    "    elif is_missspell_domain(domain):\n",
    "        return True\n",
    "\n",
    "\n"
   ]
  },
  {
   "cell_type": "code",
   "execution_count": 59,
   "metadata": {},
   "outputs": [
    {
     "name": "stdout",
     "output_type": "stream",
     "text": [
      "BBBBBBBBB\n",
      "ExtractResult(subdomain='', domain='ww88e', suffix='vip', is_private=False)\n",
      " Domain:  ww88e\n",
      " Suffix:  vip\n",
      "Max similarity:  0.6666666666666667\n",
      "Max url:  w88.one\n",
      "Phishing\n"
     ]
    }
   ],
   "source": [
    "res= fishing_check('https://ww88e.vip/Register?f=3095')\n",
    "if res:\n",
    "    print('Phishing')\n",
    "else:\n",
    "    print('Not Phishing')\n"
   ]
  }
 ],
 "metadata": {
  "kernelspec": {
   "display_name": "Python 3",
   "language": "python",
   "name": "python3"
  },
  "language_info": {
   "codemirror_mode": {
    "name": "ipython",
    "version": 3
   },
   "file_extension": ".py",
   "mimetype": "text/x-python",
   "name": "python",
   "nbconvert_exporter": "python",
   "pygments_lexer": "ipython3",
   "version": "3.9.13"
  }
 },
 "nbformat": 4,
 "nbformat_minor": 2
}
